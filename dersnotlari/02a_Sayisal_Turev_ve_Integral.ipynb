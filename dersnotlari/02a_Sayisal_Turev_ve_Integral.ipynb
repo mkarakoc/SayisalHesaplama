{
 "cells": [
  {
   "cell_type": "markdown",
   "metadata": {
    "collapsed": false
   },
   "source": [
    "# DİFERANSİYEL DENKLEMLER"
   ]
  },
  {
   "cell_type": "code",
   "execution_count": 1,
   "metadata": {
    "collapsed": false,
    "scrolled": true
   },
   "outputs": [
   ],
   "source": [
    "import sympy as sm\n",
    "import IPython.display as ipd\n",
    "f, x, x0, h = sm.symbols('f, x, x0, h')\n",
    "f = sm.Function('f')\n",
    "\n",
    "def ft(f, x, h=0, n=3):\n",
    "    x0 = sm.symbols('x0')\n",
    "    theSeries = sm.series(f(x), x, x0, n).doit()\n",
    "    if h == 0:\n",
    "        ss = theSeries\n",
    "    else:\n",
    "        ss = theSeries.subs({x:x0+h, x0:x})\n",
    "    return ss\n",
    "\n",
    "def printf(pattern, values):\n",
    "    valuesLatex = tuple([sm.latex(i).replace(r'\\rightarrow', r'\\rightarrow ') for i in values])\n",
    "    ipd.display(ipd.Markdown(pattern%valuesLatex))\n",
    "\n",
    "\n",
    "fxph = ft(f, x, h)\n",
    "fxmh = ft(f, x, -h)\n",
    "fx_left = f(x+h) - f(x-h)\n",
    "fx_right = fxph - fxmh\n",
    "\n",
    "solwO = sm.expand(sm.solve(fx_left-fx_right, sm.Derivative(f(x), x))[0])\n",
    "sol = solwO.removeO()\n",
    "OO = solwO - sol\n",
    "solO = sm.simplify(sol) + OO"
   ]
  },
  {
   "cell_type": "code",
   "execution_count": 2,
   "metadata": {
    "collapsed": false
   },
   "outputs": [
    {
     "data": {
      "text/markdown": [
       "$\\Large f{\\left (h + x \\right )} = f{\\left (x \\right )} + h \\frac{d}{d x} f{\\left (x \\right )} + \\frac{h^{2}}{2} \\frac{d^{2}}{d x^{2}}  f{\\left (x \\right )} + \\mathcal{O}\\left(h^{3}\\right)$"
      ],
      "text/plain": [
       "<IPython.core.display.Markdown object>"
      ]
     },
     "execution_count": 2,
     "metadata": {
     },
     "output_type": "execute_result"
    },
    {
     "data": {
      "text/markdown": [
       "$\\Large f{\\left (- h + x \\right )} = f{\\left (x \\right )} - h \\frac{d}{d x} f{\\left (x \\right )} + \\frac{h^{2}}{2} \\frac{d^{2}}{d x^{2}}  f{\\left (x \\right )} + \\mathcal{O}\\left(h^{3}\\right)$"
      ],
      "text/plain": [
       "<IPython.core.display.Markdown object>"
      ]
     },
     "execution_count": 2,
     "metadata": {
     },
     "output_type": "execute_result"
    },
    {
     "data": {
      "text/markdown": [
       "$\\Large - f{\\left (- h + x \\right )} + f{\\left (h + x \\right )} = 2 h \\frac{d}{d x} f{\\left (x \\right )} + \\mathcal{O}\\left(h^{3}\\right)$"
      ],
      "text/plain": [
       "<IPython.core.display.Markdown object>"
      ]
     },
     "execution_count": 2,
     "metadata": {
     },
     "output_type": "execute_result"
    },
    {
     "data": {
      "text/markdown": [
       "$\\Large \\frac{d}{d x} f{\\left (x \\right )} = \\frac{1}{2 h} \\left(- f{\\left (- h + x \\right )} + f{\\left (h + x \\right )}\\right) + \\mathcal{O}\\left(h^{2}\\right)$"
      ],
      "text/plain": [
       "<IPython.core.display.Markdown object>"
      ]
     },
     "execution_count": 2,
     "metadata": {
     },
     "output_type": "execute_result"
    }
   ],
   "source": [
    "pattern = \"$\\Large %s = %s$\"\n",
    "equations = [(f(x+h), fxph),\n",
    "             (f(x-h), fxmh),\n",
    "             (fx_left, fx_right),\n",
    "             (sm.Derivative(f(x), x),solO)\n",
    "            ]\n",
    "\n",
    "for eqi in equations:\n",
    "    printf(pattern, eqi)"
   ]
  },
  {
   "cell_type": "code",
   "execution_count": 3,
   "metadata": {
    "collapsed": false
   },
   "outputs": [
    {
     "name": "stdout",
     "output_type": "stream",
     "text": [
      "{b: -1, a: 1}\n"
     ]
    }
   ],
   "source": [
    "from sympy import Matrix, solve_linear_system\n",
    "a,b,c,d,e = sm.symbols('a,b,c,d,e')\n",
    "bir = sm.Rational(1)\n",
    "system = Matrix((\n",
    "        #(1,1,0), # f(x) hesaba katılmayacak\n",
    "        (1,-1,1),\n",
    "        (1,1,0)\n",
    "       ))\n",
    "\n",
    "coeffs = solve_linear_system(system, a, b)\n",
    "lcm_of_coeffs = sm.lcm([coeffs[key].q for key in coeffs])\n",
    "norm_coeffs = {key:lcm_of_coeffs*coeffs[key] for key in coeffs}\n",
    "\n",
    "print norm_coeffs"
   ]
  },
  {
   "cell_type": "markdown",
   "metadata": {
    "collapsed": false
   },
   "source": [
    "## $f'(x) = \\frac{f(x-2h) - 8f(x-h) + 8f(x+h) - f(x+2h)}{12h}$"
   ]
  },
  {
   "cell_type": "code",
   "execution_count": 4,
   "metadata": {
    "collapsed": false
   },
   "outputs": [
   ],
   "source": [
    "import sympy as sm\n",
    "import IPython.display as ipd\n",
    "f, x, x0, h = sm.symbols('f, x, x0, h')\n",
    "f = sm.Function('f')\n",
    "\n",
    "def ft(f, x, h=0, n=3):\n",
    "    x0 = sm.symbols('x0')\n",
    "    theSeries = sm.series(f(x), x, x0, n).doit()\n",
    "    if h == 0:\n",
    "        ss = theSeries\n",
    "    else:\n",
    "        ss = theSeries.subs({x:x0+h, x0:x})\n",
    "    return ss\n",
    "\n",
    "def printf(pattern, values):\n",
    "    valuesLatex = tuple([sm.latex(i).replace(r'\\rightarrow', r'\\rightarrow ') for i in values])\n",
    "    ipd.display(ipd.Markdown(pattern%valuesLatex))\n",
    "\n",
    "n=5\n",
    "fxph = ft(f, x, h, n)\n",
    "fxmh = ft(f, x, -h, n)\n",
    "fxp2h = ft(f, x, 2*h, n)\n",
    "fxm2h = ft(f, x, -2*h, n)\n",
    "\n",
    "\n",
    "fx_left = f(x-2*h) - 8*f(x-h) + 8*f(x+h) - f(x+2-h)\n",
    "fx_right = fxm2h - 8*fxmh + 8*fxph - fxp2h\n",
    "\n",
    "solwO = sm.expand(sm.solve(fx_left-fx_right, sm.Derivative(f(x), x))[0])\n",
    "sol = solwO.removeO()\n",
    "OO = solwO - sol\n",
    "solO = sm.simplify(sol) + OO"
   ]
  },
  {
   "cell_type": "code",
   "execution_count": 5,
   "metadata": {
    "collapsed": false
   },
   "outputs": [
    {
     "data": {
      "text/markdown": [
       "$\\Large f{\\left (h + x \\right )} = f{\\left (x \\right )} + h \\frac{d}{d x} f{\\left (x \\right )} + \\frac{h^{2}}{2} \\frac{d^{2}}{d x^{2}}  f{\\left (x \\right )} + \\frac{h^{3}}{6} \\frac{d^{3}}{d x^{3}}  f{\\left (x \\right )} + \\frac{h^{4}}{24} \\frac{d^{4}}{d x^{4}}  f{\\left (x \\right )} + \\mathcal{O}\\left(h^{5}\\right)$"
      ],
      "text/plain": [
       "<IPython.core.display.Markdown object>"
      ]
     },
     "execution_count": 5,
     "metadata": {
     },
     "output_type": "execute_result"
    },
    {
     "data": {
      "text/markdown": [
       "$\\Large f{\\left (- h + x \\right )} = f{\\left (x \\right )} - h \\frac{d}{d x} f{\\left (x \\right )} + \\frac{h^{2}}{2} \\frac{d^{2}}{d x^{2}}  f{\\left (x \\right )} - \\frac{h^{3}}{6} \\frac{d^{3}}{d x^{3}}  f{\\left (x \\right )} + \\frac{h^{4}}{24} \\frac{d^{4}}{d x^{4}}  f{\\left (x \\right )} + \\mathcal{O}\\left(h^{5}\\right)$"
      ],
      "text/plain": [
       "<IPython.core.display.Markdown object>"
      ]
     },
     "execution_count": 5,
     "metadata": {
     },
     "output_type": "execute_result"
    },
    {
     "data": {
      "text/markdown": [
       "$\\Large f{\\left (2 h + x \\right )} = f{\\left (x \\right )} + 2 h \\frac{d}{d x} f{\\left (x \\right )} + 2 h^{2} \\frac{d^{2}}{d x^{2}}  f{\\left (x \\right )} + \\frac{4 h^{3}}{3} \\frac{d^{3}}{d x^{3}}  f{\\left (x \\right )} + \\frac{2 h^{4}}{3} \\frac{d^{4}}{d x^{4}}  f{\\left (x \\right )} + \\mathcal{O}\\left(h^{5}\\right)$"
      ],
      "text/plain": [
       "<IPython.core.display.Markdown object>"
      ]
     },
     "execution_count": 5,
     "metadata": {
     },
     "output_type": "execute_result"
    },
    {
     "data": {
      "text/markdown": [
       "$\\Large f{\\left (- 2 h + x \\right )} = f{\\left (x \\right )} - 2 h \\frac{d}{d x} f{\\left (x \\right )} + 2 h^{2} \\frac{d^{2}}{d x^{2}}  f{\\left (x \\right )} - \\frac{4 h^{3}}{3} \\frac{d^{3}}{d x^{3}}  f{\\left (x \\right )} + \\frac{2 h^{4}}{3} \\frac{d^{4}}{d x^{4}}  f{\\left (x \\right )} + \\mathcal{O}\\left(h^{5}\\right)$"
      ],
      "text/plain": [
       "<IPython.core.display.Markdown object>"
      ]
     },
     "execution_count": 5,
     "metadata": {
     },
     "output_type": "execute_result"
    },
    {
     "data": {
      "text/markdown": [
       "$\\Large f{\\left (- 2 h + x \\right )} - 8 f{\\left (- h + x \\right )} + 8 f{\\left (h + x \\right )} - f{\\left (- h + x + 2 \\right )} = 12 h \\frac{d}{d x} f{\\left (x \\right )} + \\mathcal{O}\\left(h^{5}\\right)$"
      ],
      "text/plain": [
       "<IPython.core.display.Markdown object>"
      ]
     },
     "execution_count": 5,
     "metadata": {
     },
     "output_type": "execute_result"
    },
    {
     "data": {
      "text/markdown": [
       "$\\Large \\frac{d}{d x} f{\\left (x \\right )} = \\frac{1}{12 h} \\left(f{\\left (- 2 h + x \\right )} - 8 f{\\left (- h + x \\right )} + 8 f{\\left (h + x \\right )} - f{\\left (- h + x + 2 \\right )}\\right) + \\mathcal{O}\\left(h^{4}\\right)$"
      ],
      "text/plain": [
       "<IPython.core.display.Markdown object>"
      ]
     },
     "execution_count": 5,
     "metadata": {
     },
     "output_type": "execute_result"
    }
   ],
   "source": [
    "pattern = \"$\\Large %s = %s$\"\n",
    "equations = [(f(x+h), fxph),\n",
    "             (f(x-h), fxmh),\n",
    "             (f(x+2*h), fxp2h),\n",
    "             (f(x-2*h), fxm2h),\n",
    "             (fx_left, fx_right),\n",
    "             (sm.Derivative(f(x), x),solO)\n",
    "            ]\n",
    "\n",
    "for eqi in equations:\n",
    "    printf(pattern, eqi)"
   ]
  },
  {
   "cell_type": "code",
   "execution_count": 6,
   "metadata": {
    "collapsed": false
   },
   "outputs": [
    {
     "name": "stdout",
     "output_type": "stream",
     "text": [
      "{c: -1, b: -8, a: 8, d: 1}\n"
     ]
    }
   ],
   "source": [
    "from sympy import Matrix, solve_linear_system\n",
    "a,b,c,d,e = sm.symbols('a,b,c,d,e')\n",
    "bir = sm.Rational(1)\n",
    "system = Matrix((\n",
    "        #(1, 1, 1, 1, 0),\n",
    "        (1, -1, 2, -2, 1),\n",
    "        (bir/2, bir/2, 2, 2, 0),\n",
    "        (bir/6,-bir/6, 4*bir/3, -4*bir/3,0),\n",
    "        (bir/24, bir/24, 2*bir/3, 2*bir/3, 0)\n",
    "       ))\n",
    "\n",
    "coeffs = solve_linear_system(system, a, b, c, d)\n",
    "lcm_of_coeffs = sm.lcm([coeffs[key].q for key in coeffs])\n",
    "norm_coeffs = {key:lcm_of_coeffs*coeffs[key] for key in coeffs}\n",
    "\n",
    "print norm_coeffs"
   ]
  },
  {
   "cell_type": "code",
   "execution_count": 7,
   "metadata": {
    "collapsed": false
   },
   "outputs": [
   ],
   "source": [
    "import sympy as sm\n",
    "import IPython.display as ipd\n",
    "f, x, x0, h = sm.symbols('f, x, x0, h')\n",
    "f = sm.Function('f')\n",
    "\n",
    "def ft(f, x, h=0, n=3):\n",
    "    x0 = sm.symbols('x0')\n",
    "    theSeries = sm.series(f(x), x, x0, n).doit()\n",
    "    if h == 0:\n",
    "        ss = theSeries\n",
    "    else:\n",
    "        ss = theSeries.subs({x:x0+h, x0:x})\n",
    "    ssl = sm.latex(ss).replace(r'\\rightarrow', r'\\rightarrow ')\n",
    "    return ss\n",
    "\n",
    "def printf(pattern, values):\n",
    "    valuesLatex = tuple([sm.latex(i).replace(r'\\rightarrow', r'\\rightarrow ') for i in values])\n",
    "    ipd.display(ipd.Markdown(pattern%valuesLatex))\n",
    "\n",
    "n=6\n",
    "fxph = ft(f, x, h, n)\n",
    "fxmh = ft(f, x, -h, n)\n",
    "fxp2h = ft(f, x, 2*h, n)\n",
    "fxm2h = ft(f, x, -2*h, n)\n",
    "\n",
    "\n",
    "fx_left = -f(x-2*h) + 16*f(x-h) - 30*f(x) + 16*f(x+h) - f(x+2-h)\n",
    "fx_right = -fxm2h + 16*fxmh - 30*f(x) + 16*fxph - fxp2h\n",
    "\n",
    "solwO = sm.expand(sm.solve(fx_left-fx_right, sm.Derivative(f(x), x, x))[0])\n",
    "sol = solwO.removeO()\n",
    "OO = solwO - sol\n",
    "solO = sm.simplify(sol) + OO"
   ]
  },
  {
   "cell_type": "code",
   "execution_count": 8,
   "metadata": {
    "collapsed": false
   },
   "outputs": [
    {
     "data": {
      "text/markdown": [
       "$\\Large f{\\left (h + x \\right )} = f{\\left (x \\right )} + h \\frac{d}{d x} f{\\left (x \\right )} + \\frac{h^{2}}{2} \\frac{d^{2}}{d x^{2}}  f{\\left (x \\right )} + \\frac{h^{3}}{6} \\frac{d^{3}}{d x^{3}}  f{\\left (x \\right )} + \\frac{h^{4}}{24} \\frac{d^{4}}{d x^{4}}  f{\\left (x \\right )} + \\frac{h^{5}}{120} \\frac{d^{5}}{d x^{5}}  f{\\left (x \\right )} + \\mathcal{O}\\left(h^{6}\\right)$"
      ],
      "text/plain": [
       "<IPython.core.display.Markdown object>"
      ]
     },
     "execution_count": 8,
     "metadata": {
     },
     "output_type": "execute_result"
    },
    {
     "data": {
      "text/markdown": [
       "$\\Large f{\\left (- h + x \\right )} = f{\\left (x \\right )} - h \\frac{d}{d x} f{\\left (x \\right )} + \\frac{h^{2}}{2} \\frac{d^{2}}{d x^{2}}  f{\\left (x \\right )} - \\frac{h^{3}}{6} \\frac{d^{3}}{d x^{3}}  f{\\left (x \\right )} + \\frac{h^{4}}{24} \\frac{d^{4}}{d x^{4}}  f{\\left (x \\right )} - \\frac{h^{5}}{120} \\frac{d^{5}}{d x^{5}}  f{\\left (x \\right )} + \\mathcal{O}\\left(h^{6}\\right)$"
      ],
      "text/plain": [
       "<IPython.core.display.Markdown object>"
      ]
     },
     "execution_count": 8,
     "metadata": {
     },
     "output_type": "execute_result"
    },
    {
     "data": {
      "text/markdown": [
       "$\\Large f{\\left (2 h + x \\right )} = f{\\left (x \\right )} + 2 h \\frac{d}{d x} f{\\left (x \\right )} + 2 h^{2} \\frac{d^{2}}{d x^{2}}  f{\\left (x \\right )} + \\frac{4 h^{3}}{3} \\frac{d^{3}}{d x^{3}}  f{\\left (x \\right )} + \\frac{2 h^{4}}{3} \\frac{d^{4}}{d x^{4}}  f{\\left (x \\right )} + \\frac{4 h^{5}}{15} \\frac{d^{5}}{d x^{5}}  f{\\left (x \\right )} + \\mathcal{O}\\left(h^{6}\\right)$"
      ],
      "text/plain": [
       "<IPython.core.display.Markdown object>"
      ]
     },
     "execution_count": 8,
     "metadata": {
     },
     "output_type": "execute_result"
    },
    {
     "data": {
      "text/markdown": [
       "$\\Large f{\\left (- 2 h + x \\right )} = f{\\left (x \\right )} - 2 h \\frac{d}{d x} f{\\left (x \\right )} + 2 h^{2} \\frac{d^{2}}{d x^{2}}  f{\\left (x \\right )} - \\frac{4 h^{3}}{3} \\frac{d^{3}}{d x^{3}}  f{\\left (x \\right )} + \\frac{2 h^{4}}{3} \\frac{d^{4}}{d x^{4}}  f{\\left (x \\right )} - \\frac{4 h^{5}}{15} \\frac{d^{5}}{d x^{5}}  f{\\left (x \\right )} + \\mathcal{O}\\left(h^{6}\\right)$"
      ],
      "text/plain": [
       "<IPython.core.display.Markdown object>"
      ]
     },
     "execution_count": 8,
     "metadata": {
     },
     "output_type": "execute_result"
    },
    {
     "data": {
      "text/markdown": [
       "$\\Large - 30 f{\\left (x \\right )} - f{\\left (- 2 h + x \\right )} + 16 f{\\left (- h + x \\right )} + 16 f{\\left (h + x \\right )} - f{\\left (- h + x + 2 \\right )} = 12 h^{2} \\frac{d^{2}}{d x^{2}}  f{\\left (x \\right )} + \\mathcal{O}\\left(h^{6}\\right)$"
      ],
      "text/plain": [
       "<IPython.core.display.Markdown object>"
      ]
     },
     "execution_count": 8,
     "metadata": {
     },
     "output_type": "execute_result"
    },
    {
     "data": {
      "text/markdown": [
       "$\\Large \\frac{d^{2}}{d x^{2}}  f{\\left (x \\right )} = \\frac{1}{12 h^{2}} \\left(- 30 f{\\left (x \\right )} - f{\\left (- 2 h + x \\right )} + 16 f{\\left (- h + x \\right )} + 16 f{\\left (h + x \\right )} - f{\\left (- h + x + 2 \\right )}\\right) + \\mathcal{O}\\left(h^{4}\\right)$"
      ],
      "text/plain": [
       "<IPython.core.display.Markdown object>"
      ]
     },
     "execution_count": 8,
     "metadata": {
     },
     "output_type": "execute_result"
    }
   ],
   "source": [
    "pattern = \"$\\Large %s = %s$\"\n",
    "equations = [(f(x+h), fxph),\n",
    "             (f(x-h), fxmh),\n",
    "             (f(x+2*h), fxp2h),\n",
    "             (f(x-2*h), fxm2h),\n",
    "             (fx_left, fx_right),\n",
    "             (sm.Derivative(f(x), x, x),solO)\n",
    "            ]\n",
    "\n",
    "for eqi in equations:\n",
    "    printf(pattern, eqi)"
   ]
  },
  {
   "cell_type": "code",
   "execution_count": 9,
   "metadata": {
    "collapsed": false
   },
   "outputs": [
    {
     "name": "stdout",
     "output_type": "stream",
     "text": [
      "{c: -1/12, b: 4/3, a: 4/3, d: -1/12}\n"
     ]
    }
   ],
   "source": [
    "from sympy import Matrix, solve_linear_system\n",
    "a,b,c,d,e = sm.symbols('a,b,c,d,e')\n",
    "bir = sm.Rational(1)\n",
    "system = Matrix((\n",
    "        #(1, 1, 1, 1, 1),\n",
    "        (1, -1, 2, -2, 0),\n",
    "        (bir/2, bir/2, 2, 2, 1),\n",
    "        (bir/6,-bir/6, 4*bir/3, -4*bir/3,0),\n",
    "        (bir/24, bir/24, 2*bir/3, 2*bir/3, 0),\n",
    "        (bir/120, -bir/120, 4*bir/15, -4*bir/15, 0)\n",
    "       ))\n",
    "\n",
    "coeffs = solve_linear_system(system, a, b, c, d, e)\n",
    "print coeffs"
   ]
  },
  {
   "cell_type": "code",
   "execution_count": 10,
   "metadata": {
    "collapsed": false
   },
   "outputs": [
    {
     "name": "stdout",
     "output_type": "stream",
     "text": [
      "{c: -1, b: 16, a: 16, d: -1}\n"
     ]
    }
   ],
   "source": [
    "lcm_of_coeffs = sm.lcm([coeffs[key].q for key in coeffs])\n",
    "norm_coeffs = {key:lcm_of_coeffs*coeffs[key] for key in coeffs}\n",
    "\n",
    "print norm_coeffs"
   ]
  },
  {
   "cell_type": "code",
   "execution_count": 0,
   "metadata": {
    "collapsed": false
   },
   "outputs": [
   ],
   "source": [
   ]
  }
 ],
 "metadata": {
  "kernelspec": {
   "display_name": "Python 2 (system-wide)",
   "language": "python",
   "metadata": {
    "cocalc": {
     "description": "Python 2 programming language",
     "priority": 5,
     "url": "https://www.python.org/"
    }
   },
   "name": "python2"
  },
  "language_info": {
   "codemirror_mode": {
    "name": "ipython",
    "version": 2
   },
   "file_extension": ".py",
   "mimetype": "text/x-python",
   "name": "python",
   "nbconvert_exporter": "python",
   "pygments_lexer": "ipython2",
   "version": "2.7.17"
  }
 },
 "nbformat": 4,
 "nbformat_minor": 4
}