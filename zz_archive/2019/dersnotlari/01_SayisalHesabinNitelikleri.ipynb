{
 "cells": [
  {
   "cell_type": "markdown",
   "metadata": {},
   "source": [
    "# SAYISAL HESABIN NİTELİKLERİ\n",
    "\n",
    "## BİLGİSAYARDA SAYI TEMSİLLERİ\n",
    "\n",
    "En küçük hafıza birimi **bit** (**bi**nary digi**t**) adlandırılır.\n",
    "\n",
    "**1 bytes**, (bayt) diye okuyoruz, 8 bit içerir.\n",
    "\n",
    "1 bytes = 8 bit\n",
    "\n",
    "8 bit'te $2^8 = 256 = 0, 1, \\dots, 254, 255$ bilgi saklanabilir.\n",
    "\n",
    "<img src=\"./sekiller/units_policy_ubuntu.png\" width=\"50%\" />\n",
    "\n",
    "[comment]: ![](./sekiller/units_policy_ubuntu.png)\n",
    "[//]: ![](./sekiller/units_policy_ubuntu.png)\n",
    "\n"
   ]
  },
  {
   "cell_type": "markdown",
   "metadata": {},
   "source": [
    "### TAM SAYILAR\n",
    "\n",
    "Saklanabilecek tam sayı büyüklüğünü ayrılan bit sayısı (veya byte) belirler.  \n",
    "\n",
    "#### 16 bit = 2 bytes'lık olanlar"
   ]
  },
  {
   "cell_type": "code",
   "execution_count": 1,
   "metadata": {
    "collapsed": false,
    "jupyter": {
     "outputs_hidden": false
    }
   },
   "outputs": [
    {
     "name": "stdout",
     "output_type": "stream",
     "text": [
      "65536\n"
     ]
    }
   ],
   "source": [
    "# Bütün hepsi pozitifken\n",
    "enBuyuk_16bit_Pozitif_TamSayi = 2**16\n",
    "print enBuyuk_16bit_Pozitif_TamSayi"
   ]
  },
  {
   "cell_type": "code",
   "execution_count": 2,
   "metadata": {
    "collapsed": false,
    "jupyter": {
     "outputs_hidden": false
    }
   },
   "outputs": [
    {
     "name": "stdout",
     "output_type": "stream",
     "text": [
      "-32768\n",
      "0\n",
      "32767\n"
     ]
    }
   ],
   "source": [
    "# Yarısı negatif / Yarısı Pozitif\n",
    "enKucuk_16bit_Negatif_TamSayi = -2**16/2\n",
    "enBuyuk_16bit_Pozitif_TamSayi = 2**16/2 - 1\n",
    "print enKucuk_16bit_Negatif_TamSayi\n",
    "print 0\n",
    "print enBuyuk_16bit_Pozitif_TamSayi"
   ]
  },
  {
   "cell_type": "code",
   "execution_count": 3,
   "metadata": {
    "cocalc": {
     "outputs": {
      "0": {
       "name": "input",
       "opts": {
        "password": false,
        "prompt": "MTAnbHVrIHRhYmFuZGFraSB0YW0gc2F5xLEgPSA/\n"
       },
       "output_type": "stream",
       "value": "12"
      }
     }
    },
    "collapsed": false,
    "jupyter": {
     "outputs_hidden": false
    }
   },
   "outputs": [
    {
     "name": "stdout",
     "output_type": "stream",
     "text": [
      "MTAnbHVrIHRhYmFuZGFraSB0YW0gc2F5xLEgPSA/\n",
      " 1212 0\n",
      "6 0\n",
      "3 1\n",
      "1 1\n"
     ]
    }
   ],
   "source": [
    "# 10'luktan 2'lik tabana çevirim\n",
    "tamSayi10 = raw_input(\"10'luk tabandaki tam sayı = ?\")\n",
    "tamSayi10 = int(tamSayi10)\n",
    "\n",
    "bolum = abs(tamSayi10)\n",
    "if bolum!=0:\n",
    "    while bolum>0:\n",
    "        print bolum, bolum%2\n",
    "        bolum = int(bolum/2.)\n",
    "else:\n",
    "    print 0"
   ]
  },
  {
   "cell_type": "code",
   "execution_count": 4,
   "metadata": {
    "collapsed": false,
    "jupyter": {
     "outputs_hidden": false
    }
   },
   "outputs": [
    {
     "name": "stdout",
     "output_type": "stream",
     "text": [
      "12 0\n",
      "6 0\n",
      "3 1\n",
      "1 1\n"
     ]
    }
   ],
   "source": [
    "# 10'luktan herhangi bir tabana çevirim\n",
    "taban = 2\n",
    "bolum = tamSayi10\n",
    "while bolum>0:\n",
    "    print bolum, bolum%taban\n",
    "    bolum = int(bolum/taban)"
   ]
  },
  {
   "cell_type": "code",
   "execution_count": 5,
   "metadata": {
    "collapsed": false,
    "jupyter": {
     "outputs_hidden": false
    }
   },
   "outputs": [
    {
     "name": "stdout",
     "output_type": "stream",
     "text": [
      "(12)_10 = (1100)_2\n"
     ]
    }
   ],
   "source": [
    "# çıktısı düzenlenmiş\n",
    "taban = 2\n",
    "bolum = tamSayi10\n",
    "tamSayi2 = \"\"\n",
    "while bolum>0:\n",
    "    kalan = bolum % taban\n",
    "    tamSayi2 = str(kalan) + tamSayi2 \n",
    "    #tamSayi2 = tamSayi2 + str(kalan)\n",
    "    bolum = int(bolum/taban)\n",
    "\n",
    "print \"(%s)_10 = (%s)_%s\"%(tamSayi10, tamSayi2, taban)"
   ]
  },
  {
   "cell_type": "code",
   "execution_count": 6,
   "metadata": {
    "collapsed": false,
    "jupyter": {
     "outputs_hidden": false
    }
   },
   "outputs": [
    {
     "name": "stdout",
     "output_type": "stream",
     "text": [
      "1234567890123456\n",
      "1000000000001101\n",
      "(-13)_10 = (1000000000001101)_2 \n"
     ]
    }
   ],
   "source": [
    "#çıktısı 16 bit'e göre düzenlenmiş tam sayı\n",
    "def sgn(x):\n",
    "    if x>=0:\n",
    "        s=\"0\"\n",
    "    else:\n",
    "        s=\"1\"\n",
    "    return s\n",
    "\n",
    "#tamSayi10 = 2**15-1\n",
    "tamSayi10 = -2**15+1\n",
    "tamSayi10 = -13\n",
    "taban = 2\n",
    "isaret = sgn(tamSayi10)\n",
    "\n",
    "bolum = abs(tamSayi10)\n",
    "tamSayi2 = \"\"\n",
    "while bolum>0:\n",
    "    kalan = bolum % taban\n",
    "    tamSayi2 = str(kalan) + tamSayi2\n",
    "    bolum = int(bolum/taban)\n",
    "\n",
    "print \"\".join([str(i%10) for i in range(1, 17)])\n",
    "print isaret + \"0\"*(15-len(tamSayi2)) + tamSayi2\n",
    "print \"(%s)_10 = (%s%s)_2 \"%(tamSayi10 , isaret , \"0\"*(15-len(tamSayi2)) + tamSayi2)"
   ]
  },
  {
   "cell_type": "code",
   "execution_count": 7,
   "metadata": {
    "collapsed": false,
    "jupyter": {
     "outputs_hidden": false
    }
   },
   "outputs": [
    {
     "name": "stdout",
     "output_type": "stream",
     "text": [
      "10715086071862673209484250490600018105614048117055336074437503883703510511249361224931983788156958581275946729175531468251871452856923140435984577574698574803934567774824230985421074605062371141877954182153046474983581941267398767559165543946077062914571196477686542167660429831652624386837205668069376\n"
     ]
    }
   ],
   "source": [
    "a = 2**1000\n",
    "print a"
   ]
  },
  {
   "cell_type": "markdown",
   "metadata": {},
   "source": [
    "# REEL SAYILAR\n",
    "\n",
    "https://www.h-schmidt.net/FloatConverter/IEEE754.html\n",
    "\n",
    "## $y = (1 + M)*2^x$"
   ]
  },
  {
   "cell_type": "code",
   "execution_count": 8,
   "metadata": {
    "collapsed": false,
    "jupyter": {
     "outputs_hidden": false
    }
   },
   "outputs": [
    {
     "name": "stdout",
     "output_type": "stream",
     "text": [
      "2^-4\n",
      "1.6\n"
     ]
    }
   ],
   "source": [
    "from math import log\n",
    "y = 0.1\n",
    "\n",
    "us = int(log(y, 2))-1\n",
    "mantis = y/2**us\n",
    "\n",
    "print \"2^%s\"%us\n",
    "print mantis"
   ]
  },
  {
   "cell_type": "markdown",
   "metadata": {},
   "source": [
    "## 32 bitlik sistemde mantis kısmının hesaplanışı\n",
    "\n",
    "### (0.5)_10 = (0.10000000000000000000000)_2\n",
    "### (0.25)_10 = (0.01000000000000000000000)_2\n",
    "\n",
    "Bu tür ondalık sayılar için aşağıdaki şartı incelemek gerekiyor.  \n",
    "İncelendiğinde basamak değişkeninin 1 azaltılmadığı görülür.\n",
    "\n",
    "```python\n",
    "if basamak>log(gecici,2):\n",
    "    basamak -= 1\n",
    "```"
   ]
  },
  {
   "cell_type": "code",
   "execution_count": 9,
   "metadata": {
    "collapsed": false,
    "jupyter": {
     "outputs_hidden": false
    }
   },
   "outputs": [
    {
     "name": "stdout",
     "output_type": "stream",
     "text": [
      "-3 -3.0 0.125\n",
      "-3 -3.0 0.125\n",
      "00100000000000000000000\n"
     ]
    }
   ],
   "source": [
    "from math import log\n",
    "\n",
    "ondalik10 = .125\n",
    "ondalik2List = [\"0\"]*23\n",
    "\n",
    "gecici = ondalik10\n",
    "basamak = 0\n",
    "while abs(basamak)<23 and gecici>0:\n",
    "    basamak = int(log(gecici,2))\n",
    "    print basamak, log(gecici,2), gecici\n",
    "    if basamak>log(gecici,2):\n",
    "        basamak -= 1\n",
    "    if abs(basamak)>23: break\n",
    "    print basamak, log(gecici,2), gecici\n",
    "    ondalik2List[abs(basamak)-1] = \"1\"\n",
    "    gecici= gecici - 2**basamak\n",
    "\n",
    "ondalik2 = ''.join(ondalik2List)\n",
    "print ondalik2"
   ]
  },
  {
   "cell_type": "markdown",
   "metadata": {},
   "source": [
    "### (0.6)_10 = (0.10011001100110011001100)_2\n",
    "### (0.7)_10 = (0.10110011001100110011001)_2\n",
    "\n",
    "Bu tür ondalık sayılar için aşağıdaki şartı incelemek gerekiyor.  \n",
    "İncelendiğinde basamak değişkeninin 1 azaltıldığı görülür.\n",
    "\n",
    "```python\n",
    "if basamak>log(gecici,2):\n",
    "    basamak -= 1\n",
    "```"
   ]
  },
  {
   "cell_type": "code",
   "execution_count": 10,
   "metadata": {
    "collapsed": false,
    "jupyter": {
     "outputs_hidden": false
    }
   },
   "outputs": [
    {
     "data": {
      "text/plain": [
       "'00000000000000000000001'"
      ]
     },
     "execution_count": 10,
     "metadata": {},
     "output_type": "execute_result"
    }
   ],
   "source": [
    "ondalik2List = [\"0\"]*23\n",
    "ondalik2List[abs(-23)-1] = '1'\n",
    "''.join(ondalik2List)"
   ]
  },
  {
   "cell_type": "code",
   "execution_count": 11,
   "metadata": {
    "collapsed": false,
    "jupyter": {
     "outputs_hidden": false
    }
   },
   "outputs": [
    {
     "name": "stdout",
     "output_type": "stream",
     "text": [
      "-1 -0.736965594166 0.6\n",
      "-4 -3.32192809489 0.1\n",
      "-5 -4.73696559417 0.0375\n",
      "-8 -7.32192809489 0.00625\n",
      "-9 -8.73696559417 0.00234375\n",
      "-12 -11.3219280949 0.000390625\n",
      "-13 -12.7369655942 0.000146484375\n",
      "-16 -15.3219280949 2.44140625e-05\n",
      "-17 -16.7369655942 9.15527343748e-06\n",
      "-20 -19.3219280949 1.52587890623e-06\n",
      "-21 -20.7369655942 5.72204589822e-07\n",
      "10011001100110011001100\n"
     ]
    }
   ],
   "source": [
    "from math import log\n",
    "\n",
    "ondalik10 = .6\n",
    "ondalik2List = [\"0\"]*23\n",
    "\n",
    "gecici = ondalik10\n",
    "basamak = 0\n",
    "while abs(basamak)<23 and gecici>0:\n",
    "    basamak = int(log(gecici,2))\n",
    "    #print basamak, log(gecici,2), gecici\n",
    "    if basamak>log(gecici,2):\n",
    "        basamak -= 1\n",
    "    if abs(basamak)>23: break\n",
    "    print basamak, log(gecici,2), gecici\n",
    "    ondalik2List[abs(basamak)-1] = \"1\"\n",
    "    gecici = gecici - 2**basamak\n",
    "\n",
    "ondalik2 = ''.join(ondalik2List)\n",
    "print ondalik2"
   ]
  },
  {
   "cell_type": "code",
   "execution_count": 12,
   "metadata": {
    "collapsed": false,
    "jupyter": {
     "outputs_hidden": false
    }
   },
   "outputs": [
    {
     "data": {
      "text/plain": [
       "10011001100110011001100L"
      ]
     },
     "execution_count": 12,
     "metadata": {},
     "output_type": "execute_result"
    }
   ],
   "source": [
    "#12345678901234567890123\n",
    "10011001100110011001100\n",
    "10011001100110011001100"
   ]
  },
  {
   "cell_type": "markdown",
   "metadata": {},
   "source": [
    "## 64 bitlik sistemde mantis kısmının hesaplanışı"
   ]
  },
  {
   "cell_type": "code",
   "execution_count": 13,
   "metadata": {
    "collapsed": false,
    "jupyter": {
     "outputs_hidden": false
    }
   },
   "outputs": [
    {
     "name": "stdout",
     "output_type": "stream",
     "text": [
      "-1 0.6\n",
      "-4 0.1\n",
      "-5 0.0375\n",
      "-8 0.00625\n",
      "-9 0.00234375\n",
      "-12 0.000390625\n",
      "-13 0.000146484375\n",
      "-16 2.44140625e-05\n",
      "-17 9.15527343748e-06\n",
      "-20 1.52587890623e-06\n",
      "-21 5.72204589822e-07\n",
      "-24 9.53674316184e-08\n",
      "-25 3.5762786843e-08\n",
      "-28 5.96046445533e-09\n",
      "-29 2.23517415687e-09\n",
      "-32 3.72529007642e-10\n",
      "-33 1.39698363988e-10\n",
      "-36 2.32830421609e-11\n",
      "-37 8.73112693256e-12\n",
      "-40 1.45516931838e-12\n",
      "-41 5.45674616603e-13\n",
      "-44 9.09272657168e-14\n",
      "-45 3.4083846856e-14\n",
      "-48 5.66213742559e-15\n",
      "-49 2.10942374679e-15\n",
      "-52 3.33066907388e-16\n",
      "1001100110011001100110011001100110011001100110011001\n"
     ]
    }
   ],
   "source": [
    "from math import log\n",
    "\n",
    "ondalikBit = 52\n",
    "ondalik10 = .6\n",
    "ondalik2List = [\"0\"]*ondalikBit\n",
    "\n",
    "gecici = ondalik10\n",
    "basamak = 0\n",
    "while abs(basamak)<ondalikBit and gecici>0:\n",
    "    basamak = int(log(gecici,2))\n",
    "    if basamak>log(gecici,2):\n",
    "        basamak -= 1\n",
    "    if abs(basamak)>ondalikBit: break\n",
    "    print basamak, gecici\n",
    "    ondalik2List[abs(basamak)-1] = \"1\"\n",
    "    gecici= gecici - 2**basamak\n",
    "\n",
    "ondalik2 = ''.join(ondalik2List)\n",
    "print ondalik2"
   ]
  },
  {
   "cell_type": "markdown",
   "metadata": {},
   "source": [
    "## 32, 64 veya 128 bitlik sistemde reel sayılar\n",
    "\n",
    "128 bit malesef çalışmıyor!?"
   ]
  },
  {
   "cell_type": "code",
   "execution_count": 14,
   "metadata": {
    "collapsed": false,
    "jupyter": {
     "outputs_hidden": false
    }
   },
   "outputs": [
    {
     "name": "stdout",
     "output_type": "stream",
     "text": [
      "1.6\n",
      "-4\n"
     ]
    }
   ],
   "source": [
    "from math import log\n",
    "x = int(log(0.1, 2))\n",
    "print 0.1/2**(x-1)\n",
    "print x-1"
   ]
  },
  {
   "cell_type": "code",
   "execution_count": 15,
   "metadata": {
    "collapsed": false,
    "jupyter": {
     "outputs_hidden": false
    }
   },
   "outputs": [
    {
     "name": "stdout",
     "output_type": "stream",
     "text": [
      "12345678901234567890123456789012345678901234567890123456789012345678901234567890123456789012345678901234567890123456789012345678\n",
      "10111111111111110011101111100111011011001000101101000011100101011000000000000000000000000000000000000000000000000000000000000000\n",
      "işaret: isaret = -1 = (1)_2\n",
      "2^us  : us = 0 = 16383 = (11111111111111)_2\n",
      "mantis: mantis = 0.234 = (0011101111100111011011001000101101000011100101011000000000000000000000000000000000000000000000000000000000000000)_2\n"
     ]
    }
   ],
   "source": [
    "from math import log\n",
    "\n",
    "# verilen bir sayının işaretinin\n",
    "# 2'lik (binary) temsili\n",
    "def sgn(x):\n",
    "    if x>=0:\n",
    "        s=\"0\" # +1\n",
    "    else:\n",
    "        s=\"1\" # -1\n",
    "    return s\n",
    "\n",
    "isaretliSayi = -1.234\n",
    "kacBit = 128\n",
    "\n",
    "isaret = sgn(isaretliSayi)\n",
    "sayi10 = abs(isaretliSayi)\n",
    "\n",
    "# 32, 64, 128 bit dağılımları\n",
    "# https://en.wikipedia.org/wiki/Quadruple-precision_floating-point_format\n",
    "bitH = {32:[1, 8, 23], 64:[1, 11, 52], 128:[1, 15, 112]} \n",
    "usBit = bitH[kacBit][1]\n",
    "ondalikBit = bitH[kacBit][2]\n",
    "\n",
    "# verilen bir reel sayıyı 1.M x 2^us şekline çevir\n",
    "us = int(log(sayi10, 2))\n",
    "if 2**us>sayi10:\n",
    "    us = us - 1\n",
    "# mantis = 1.M - 1\n",
    "mantis = sayi10/2**us - 1\n",
    "\n",
    "# 2^us kısmının 32 veya 64 bit temsili\n",
    "us2lik = us + 2**(usBit-1)-1\n",
    "bolum = us2lik\n",
    "tamSayi2 = \"\"\n",
    "while bolum>0:\n",
    "    kalan = bolum % 2\n",
    "    tamSayi2 = str(kalan) + tamSayi2\n",
    "    bolum = int(bolum/2.)\n",
    "\n",
    "# verilen sayının ondalık kısmının 2'lik\n",
    "# temsilinin kaydedileceği liste\n",
    "ondalik2List = [\"0\"]*ondalikBit\n",
    "\n",
    "# ondalık kısım 2'lik sisteme çeviriliyor\n",
    "gecici = mantis\n",
    "basamak = 0\n",
    "while abs(basamak)<ondalikBit and gecici>0:\n",
    "    basamak = int(log(gecici,2))\n",
    "    if basamak>log(gecici,2):\n",
    "        basamak -= 1\n",
    "    if abs(basamak)>ondalikBit: break\n",
    "    #print basamak, gecici\n",
    "    ondalik2List[abs(basamak)-1] = \"1\"\n",
    "    gecici= gecici - 2**basamak\n",
    "\n",
    "ondalik2 = ''.join(ondalik2List)\n",
    "\n",
    "print \"\".join([str(i%10) for i in range(1, kacBit+1)])\n",
    "print isaret + \"0\"*(usBit-len(tamSayi2)) + tamSayi2 + ondalik2\n",
    "print \"işaret: isaret = %+i = (%s)_2\"%(-2*int(isaret)+1, isaret)\n",
    "print \"2^us  : us = %s = %s = (%s)_2\"%(us,us2lik,tamSayi2)\n",
    "print \"mantis: mantis = %s = (%s)_2\"%(mantis, ondalik2)"
   ]
  },
  {
   "cell_type": "markdown",
   "metadata": {},
   "source": [
    "### 2'likten tekrar 10'luk sisteme çevirim"
   ]
  },
  {
   "cell_type": "code",
   "execution_count": 16,
   "metadata": {
    "collapsed": false,
    "jupyter": {
     "outputs_hidden": false
    }
   },
   "outputs": [
    {
     "name": "stdout",
     "output_type": "stream",
     "text": [
      "orjinal sayı = -1.234\n",
      "çevirilen sayı = -1.234\n",
      "hata miktarı = 0.0\n"
     ]
    }
   ],
   "source": [
    "# 2'lik sistemden tekrar ondalik sisteme çevirim\n",
    "isaret10 = (-2*int(isaret)+1)\n",
    "ondalik2den10a = 0\n",
    "for i,b in enumerate(ondalik2):\n",
    "    ondalik2den10a += int(b)*2**-(i+1)\n",
    "\n",
    "sayi2den10a = isaret10*(1+ondalik2den10a)*2**us\n",
    "\n",
    "print \"orjinal sayı =\", isaretliSayi\n",
    "print \"çevirilen sayı =\", sayi2den10a\n",
    "print \"hata miktarı =\", (isaretliSayi-sayi2den10a)"
   ]
  },
  {
   "cell_type": "markdown",
   "metadata": {},
   "source": [
    "# SAYISAL HATA TÜRLERİ\n",
    "1. **Yuvarlama Hatası (Round-off error)**\n",
    " - http://mathworld.wolfram.com/RoundoffError.html\n",
    " - Roundoff error occurs because of the computing device's inability to deal with certain  \n",
    " numbers. Such numbers need to be rounded off to some near approximation which is dependent  \n",
    " on the word size used to represent numbers of the device.\n",
    "\n",
    "2. **Kesme Hatası (Truncation Error)**\n",
    " - https://tr.0wikipedia.org/wiki/Kesme_hatası\n",
    " - Truncation error refers to the error in a method, which occurs because some  \n",
    " series (finite or infinite) is truncated to a fewer number of terms. Such errors are  \n",
    " essentially algorithmic errors and we can predict the extent of the error that will  \n",
    " occur in the method.\n"
   ]
  },
  {
   "cell_type": "markdown",
   "metadata": {},
   "source": [
    "## YUVARLAMA HATASI"
   ]
  },
  {
   "cell_type": "markdown",
   "metadata": {},
   "source": [
    "### Her zaman A - A = 0 olmayabilir.\n",
    "#### FORTRAN"
   ]
  },
  {
   "cell_type": "code",
   "execution_count": 17,
   "metadata": {
    "collapsed": false,
    "jupyter": {
     "outputs_hidden": false
    }
   },
   "outputs": [
    {
     "name": "stdout",
     "output_type": "stream",
     "text": [
      "  0.453596085    \n",
      "  0.453596085    \n",
      "   0.00000000    \n"
     ]
    }
   ],
   "source": [
    "%%sh\n",
    "# fortran programını oluştur\n",
    "cat > fortran_Programi.for << EOF\n",
    "C FORTRAN PROGRAMI BAŞI\n",
    "C       REAL*4 A\n",
    "C       REAL*8 B, Z\n",
    "       A = COS(1.1)\n",
    "       B = SIN(1.1)\n",
    "       Z = A - (A/B)*B\n",
    "       PRINT *, A\n",
    "       PRINT *, (A/B)*B\n",
    "       PRINT *, Z\n",
    "       END\n",
    "C FORTRAN PROGRAMI SONU\n",
    "EOF\n",
    "\n",
    "# fortran programı derle\n",
    "#\n",
    "# gfortran derleyicisi\n",
    "# gfortran -o fortran_Programi fortran_Programi.for\n",
    "#\n",
    "# f77 derleyicisi\n",
    "f77 -o fortran_Programi fortran_Programi.for\n",
    "\n",
    "# fortran programını çalıştır\n",
    "./fortran_Programi\n",
    "\n",
    "# fortran programını sil\n",
    "#rm -f fortran_Programi*"
   ]
  },
  {
   "cell_type": "markdown",
   "metadata": {},
   "source": [
    "#### PYTHON"
   ]
  },
  {
   "cell_type": "code",
   "execution_count": 18,
   "metadata": {
    "collapsed": false,
    "jupyter": {
     "outputs_hidden": false
    }
   },
   "outputs": [
    {
     "name": "stdout",
     "output_type": "stream",
     "text": [
      "0.453596121426\n",
      "0.453596121426\n",
      "-5.55111512313e-17\n"
     ]
    }
   ],
   "source": [
    "from math import *\n",
    "A = cos(1.1)\n",
    "B = sin(1.1)\n",
    "Z = A - (A/B)*B\n",
    "print A\n",
    "print (A/B)*B\n",
    "print Z"
   ]
  },
  {
   "cell_type": "code",
   "execution_count": 19,
   "metadata": {
    "collapsed": false,
    "jupyter": {
     "outputs_hidden": false
    }
   },
   "outputs": [
    {
     "data": {
      "text/plain": [
       "0.4535961214255773"
      ]
     },
     "execution_count": 19,
     "metadata": {},
     "output_type": "execute_result"
    }
   ],
   "source": [
    "from math import *\n",
    "A = cos(1.1)\n",
    "B = sin(1.1)\n",
    "Z = A - (A/B)*B\n",
    "A"
   ]
  },
  {
   "cell_type": "code",
   "execution_count": 20,
   "metadata": {
    "collapsed": false,
    "jupyter": {
     "outputs_hidden": false
    }
   },
   "outputs": [
    {
     "data": {
      "text/plain": [
       "0.45359612142557737"
      ]
     },
     "execution_count": 20,
     "metadata": {},
     "output_type": "execute_result"
    }
   ],
   "source": [
    "from math import *\n",
    "A = cos(1.1)\n",
    "B = sin(1.1)\n",
    "Z = A - (A/B)*B\n",
    "(A/B)*B"
   ]
  },
  {
   "cell_type": "code",
   "execution_count": 21,
   "metadata": {
    "collapsed": false,
    "jupyter": {
     "outputs_hidden": false
    }
   },
   "outputs": [
    {
     "data": {
      "text/plain": [
       "0.45359612142557737"
      ]
     },
     "execution_count": 21,
     "metadata": {},
     "output_type": "execute_result"
    }
   ],
   "source": [
    "0.4535961214255773\n",
    "0.45359612142557737"
   ]
  },
  {
   "cell_type": "markdown",
   "metadata": {},
   "source": [
    "### Küçük ve büyük sayıları yan yana getirmek risklidir."
   ]
  },
  {
   "cell_type": "markdown",
   "metadata": {},
   "source": [
    "#### FORTRAN"
   ]
  },
  {
   "cell_type": "code",
   "execution_count": 22,
   "metadata": {
    "collapsed": false,
    "jupyter": {
     "outputs_hidden": false
    }
   },
   "outputs": [
    {
     "name": "stdout",
     "output_type": "stream",
     "text": [
      " TOPLAM =    1.09999999747378751635551452636718750      \n"
     ]
    }
   ],
   "source": [
    "%%sh\n",
    "# fortran programını oluştur\n",
    "cat > fortran_Programi.for << EOF\n",
    "        REAL*16 TOPLAM\n",
    "        TOPLAM = 1.0\n",
    "        DO 10, I = 1, 10000\n",
    "            TOPLAM = TOPLAM + 0.00001\n",
    "10      CONTINUE\n",
    "        PRINT *, 'TOPLAM = ', TOPLAM\n",
    "        END\n",
    "C FORTRAN PROGRAMI SONU\n",
    "EOF\n",
    "\n",
    "# fortran programı derle\n",
    "# f77 derleyicisi\n",
    "f77 -o fortran_Programi fortran_Programi.for\n",
    "\n",
    "# fortran programını çalıştır\n",
    "./fortran_Programi\n",
    "\n",
    "# fortran programını sil\n",
    "rm -f fortran_Programi*"
   ]
  },
  {
   "cell_type": "markdown",
   "metadata": {},
   "source": [
    "#### PYTHON"
   ]
  },
  {
   "cell_type": "code",
   "execution_count": 23,
   "metadata": {
    "collapsed": false,
    "jupyter": {
     "outputs_hidden": false
    }
   },
   "outputs": [
    {
     "name": "stdout",
     "output_type": "stream",
     "text": [
      "toplam =  1.1\n"
     ]
    }
   ],
   "source": [
    "toplam = 1.0\n",
    "for i in range(10000):\n",
    "    toplam += 0.00001\n",
    "print 'toplam = ', toplam"
   ]
  },
  {
   "cell_type": "code",
   "execution_count": 24,
   "metadata": {
    "collapsed": false,
    "jupyter": {
     "outputs_hidden": false
    }
   },
   "outputs": [
    {
     "data": {
      "text/plain": [
       "1.1000000000006551"
      ]
     },
     "execution_count": 24,
     "metadata": {},
     "output_type": "execute_result"
    }
   ],
   "source": [
    "toplam = 1.0\n",
    "for i in range(10000):\n",
    "    toplam += 0.00001\n",
    "toplam"
   ]
  },
  {
   "cell_type": "code",
   "execution_count": 25,
   "metadata": {
    "collapsed": false,
    "jupyter": {
     "outputs_hidden": false
    }
   },
   "outputs": [
    {
     "name": "stdout",
     "output_type": "stream",
     "text": [
      "Variable                        Type                          Data/Info\n",
      "-----------------------------------------------------------------------\n",
      "A                               float                         0.453596121426\n",
      "B                               float                         0.891207360061\n",
      "Z                               float                         -5.55111512313e-17\n",
      "a                               long                          1071508607186267320948425<...>1652624386837205668069376\n",
      "acos                            builtin_function_or_method    <built-in function acos>\n",
      "acosh                           builtin_function_or_method    <built-in function acosh>\n",
      "asin                            builtin_function_or_method    <built-in function asin>\n",
      "asinh                           builtin_function_or_method    <built-in function asinh>\n",
      "atan                            builtin_function_or_method    <built-in function atan>\n",
      "atan2                           builtin_function_or_method    <built-in function atan2>\n",
      "atanh                           builtin_function_or_method    <built-in function atanh>\n",
      "b                               str                           0\n",
      "basamak                         int                           -49\n",
      "bitH                            dict                          n=3\n",
      "bolum                           int                           0\n",
      "ceil                            builtin_function_or_method    <built-in function ceil>\n",
      "copysign                        builtin_function_or_method    <built-in function copysign>\n",
      "cos                             builtin_function_or_method    <built-in function cos>\n",
      "cosh                            builtin_function_or_method    <built-in function cosh>\n",
      "degrees                         builtin_function_or_method    <built-in function degrees>\n",
      "e                               float                         2.71828182846\n",
      "enBuyuk_16bit_Pozitif_TamSayi   int                           32767\n",
      "enKucuk_16bit_Negatif_TamSayi   int                           -32768\n",
      "erf                             builtin_function_or_method    <built-in function erf>\n",
      "erfc                            builtin_function_or_method    <built-in function erfc>\n",
      "exp                             builtin_function_or_method    <built-in function exp>\n",
      "expm1                           builtin_function_or_method    <built-in function expm1>\n",
      "fabs                            builtin_function_or_method    <built-in function fabs>\n",
      "factorial                       builtin_function_or_method    <built-in function factorial>\n",
      "floor                           builtin_function_or_method    <built-in function floor>\n",
      "fmod                            builtin_function_or_method    <built-in function fmod>\n",
      "frexp                           builtin_function_or_method    <built-in function frexp>\n",
      "fsum                            builtin_function_or_method    <built-in function fsum>\n",
      "gamma                           builtin_function_or_method    <built-in function gamma>\n",
      "gecici                          float                         0.0\n",
      "hypot                           builtin_function_or_method    <built-in function hypot>\n",
      "i                               int                           9999\n",
      "isaret                          str                           1\n",
      "isaret10                        int                           -1\n",
      "isaretliSayi                    float                         -1.234\n",
      "isinf                           builtin_function_or_method    <built-in function isinf>\n",
      "isnan                           builtin_function_or_method    <built-in function isnan>\n",
      "kacBit                          int                           128\n",
      "kalan                           int                           1\n",
      "ldexp                           builtin_function_or_method    <built-in function ldexp>\n",
      "lgamma                          builtin_function_or_method    <built-in function lgamma>\n",
      "log                             builtin_function_or_method    <built-in function log>\n",
      "log10                           builtin_function_or_method    <built-in function log10>\n",
      "log1p                           builtin_function_or_method    <built-in function log1p>\n",
      "mantis                          float                         0.234\n",
      "matplotlib                      module                        <module 'matplotlib' from<...>matplotlib/__init__.pyc'>\n",
      "modf                            builtin_function_or_method    <built-in function modf>\n",
      "ondalik10                       float                         0.6\n",
      "ondalik2                        str                           0011101111100111011011001<...>0000000000000000000000000\n",
      "ondalik2List                    list                          n=112\n",
      "ondalik2den10a                  float                         0.234\n",
      "ondalikBit                      int                           112\n",
      "pi                              float                         3.14159265359\n",
      "pow                             builtin_function_or_method    <built-in function pow>\n",
      "radians                         builtin_function_or_method    <built-in function radians>\n",
      "sayi10                          float                         1.234\n",
      "sayi2den10a                     float                         -1.234\n",
      "sgn                             function                      <function sgn at 0x7f2381030398>\n",
      "sin                             builtin_function_or_method    <built-in function sin>\n",
      "sinh                            builtin_function_or_method    <built-in function sinh>\n",
      "sqrt                            builtin_function_or_method    <built-in function sqrt>\n",
      "taban                           int                           2\n",
      "tamSayi10                       int                           -13\n",
      "tamSayi2                        str                           11111111111111\n",
      "tan                             builtin_function_or_method    <built-in function tan>\n",
      "tanh                            builtin_function_or_method    <built-in function tanh>\n",
      "toplam                          float                         1.1\n",
      "trunc                           builtin_function_or_method    <built-in function trunc>\n",
      "us                              int                           0\n",
      "us2lik                          int                           16383\n",
      "usBit                           int                           15\n",
      "x                               int                           -3\n",
      "y                               float                         0.1\n"
     ]
    }
   ],
   "source": [
    "whos"
   ]
  },
  {
   "cell_type": "code",
   "execution_count": 26,
   "metadata": {
    "collapsed": false,
    "jupyter": {
     "outputs_hidden": false
    }
   },
   "outputs": [
    {
     "data": {
      "text/plain": [
       "0.011170569998292024"
      ]
     },
     "execution_count": 26,
     "metadata": {},
     "output_type": "execute_result"
    }
   ],
   "source": [
    "2004**.5 - 2003**.5"
   ]
  },
  {
   "cell_type": "code",
   "execution_count": 27,
   "metadata": {
    "collapsed": false,
    "jupyter": {
     "outputs_hidden": false
    }
   },
   "outputs": [
    {
     "data": {
      "text/plain": [
       "0.011170569998288152"
      ]
     },
     "execution_count": 27,
     "metadata": {},
     "output_type": "execute_result"
    }
   ],
   "source": [
    "1./(2004**.5 + 2003**.5)"
   ]
  },
  {
   "cell_type": "code",
   "execution_count": 28,
   "metadata": {
    "collapsed": false,
    "jupyter": {
     "outputs_hidden": false
    }
   },
   "outputs": [
    {
     "data": {
      "text/plain": [
       "0.011170569998288152"
      ]
     },
     "execution_count": 28,
     "metadata": {},
     "output_type": "execute_result"
    }
   ],
   "source": [
    "0.011170569998292024\n",
    "0.011170569998288152"
   ]
  },
  {
   "cell_type": "code",
   "execution_count": 29,
   "metadata": {
    "collapsed": false,
    "jupyter": {
     "outputs_hidden": false
    }
   },
   "outputs": [
    {
     "name": "stdout",
     "output_type": "stream",
     "text": [
      "                  20            0.103147962254            0.103147962254         1.38777878078e-17\n",
      "                 200           0.0350500083107           0.0350500083107        -1.55431223448e-15\n",
      "                2000           0.0111705699983           0.0111705699983        -3.87190279838e-15\n",
      "               20000          0.00353522458758          0.00353522458759         9.60516388648e-15\n",
      "              200000          0.00111802420605          0.00111802420608         3.13141439862e-14\n",
      "             2000000         0.000353553081368         0.000353553081234        -1.33397524797e-13\n",
      "            20000000           0.0001118033897         0.000111803389092        -6.07878032849e-13\n",
      "           200000000         3.53553386958e-05           3.535533875e-05         5.41598490773e-14\n",
      "          2000000000         1.11803456093e-05         1.11803398777e-05        -5.73160231299e-12\n",
      "         20000000000         3.53553332388e-06         3.53553390562e-06         5.81739367744e-13\n",
      "        200000000000         1.11799454316e-06         1.11803398874e-06         3.94455751435e-11\n",
      "       2000000000000         3.53436917067e-07         3.53553390593e-07          1.1647352639e-10\n",
      "      20000000000000         1.11758708954e-07         1.11803398875e-07         4.46899211223e-11\n",
      "     200000000000000         3.53902578354e-08         3.53553390593e-08        -3.49187760611e-11\n",
      "    2000000000000000         1.49011611938e-08         1.11803398875e-08        -3.72082130635e-09\n",
      "   20000000000000000                       0.0         3.53553390593e-09         3.53553390593e-09\n",
      "  200000000000000000                       0.0         1.11803398875e-09         1.11803398875e-09\n",
      " 2000000000000000000                       0.0         3.53553390593e-10         3.53553390593e-10\n",
      "20000000000000000000                       0.0         1.11803398875e-10         1.11803398875e-10\n"
     ]
    }
   ],
   "source": [
    "for i in range(1, 20):\n",
    "    buyukSayi = 2*10**i\n",
    "    sayi1 = buyukSayi + 3\n",
    "    sayi2 = buyukSayi + 4\n",
    "    fark1 = sayi2**.5 - sayi1**.5\n",
    "    toplam = sayi2**.5 + sayi1**.5\n",
    "    fark2 = 1/toplam\n",
    "    hata = fark2-fark1\n",
    "    print \"%20s %25.24s %25.24s %25.24s\"%(buyukSayi, fark1, fark2, hata)"
   ]
  },
  {
   "cell_type": "code",
   "execution_count": 30,
   "metadata": {
    "collapsed": false,
    "jupyter": {
     "outputs_hidden": false
    }
   },
   "outputs": [
    {
     "name": "stdout",
     "output_type": "stream",
     "text": [
      "20000000000000000003.00000000000000000000000000000000000000000000000000000000000000000000000000000000\n",
      "20000000000000000004.00000000000000000000000000000000000000000000000000000000000000000000000000000000\n",
      "4472135954.999579393153757534087520925330034887159306566816528984054165004869975089273649906461843602\n",
      "4472135954.999579393153757534087520925330034887159306566816528984054165004869975089273649906461843602\n",
      "4472135954.999579393265560932962510410140710773194308798668062494033534023471512729486361547165845160\n",
      "4472135954.999579393265560932962510410140710773194308798668062494033534023471512729486361547165845160\n",
      "0.0000000001118033988749894848106758860350022318515335099793690186015376402127116407040015586068429276438400787\n",
      "0.0000000001118033988749894848106758860350022318515335099793690186015376402127116407040015586068429276438400787\n",
      "0.0000000001118033988749894848106758860350022318515335099793690186015376402127116407040015586157591786093499367\n",
      "0.0000000001118033988749894848106758860350022318515335099793690186015376402127116407040015586157591786093499367\n"
     ]
    }
   ],
   "source": [
    "import sympy as sym\n",
    "sayi1N = sym.N(sayi1,100)\n",
    "sayi2N = sym.N(sayi2,100)\n",
    "\n",
    "sayi1Nr = sayi1N**sym.Rational(1,2)\n",
    "sayi2Nr = sayi2N**sym.Rational(1,2)\n",
    "\n",
    "sayi1Ns = sym.sqrt(sayi1N)\n",
    "sayi2Ns = sym.sqrt(sayi2N)\n",
    "\n",
    "farkR = sayi2Nr - sayi1Nr\n",
    "farkS = sayi2Ns - sayi1Ns\n",
    "\n",
    "farkBr = sym.N(1,100)/(sayi2Nr + sayi1Nr)\n",
    "farkBs = sym.N(1,100)/(sayi2Ns + sayi1Ns)\n",
    "\n",
    "print sayi1N\n",
    "print sayi2N\n",
    "print sayi1Nr\n",
    "print sayi1Ns\n",
    "print sayi2Nr\n",
    "print sayi2Ns\n",
    "print farkR\n",
    "print farkS\n",
    "print farkBr\n",
    "print farkBs"
   ]
  },
  {
   "cell_type": "markdown",
   "metadata": {},
   "source": [
    "# ALIŞTIRMALAR"
   ]
  },
  {
   "cell_type": "code",
   "execution_count": 31,
   "metadata": {
    "collapsed": false,
    "jupyter": {
     "outputs_hidden": false
    }
   },
   "outputs": [
    {
     "data": {
      "text/plain": [
       "-0.9999999999964793"
      ]
     },
     "execution_count": 31,
     "metadata": {},
     "output_type": "execute_result"
    }
   ],
   "source": [
    "# En basit şekilde kütüphane aşağıdaki gibi çağırılır\n",
    "import math\n",
    "\n",
    "math.cos(3.14159)"
   ]
  },
  {
   "cell_type": "markdown",
   "metadata": {},
   "source": [
    "### 1.3 - Fonksiyonlar"
   ]
  },
  {
   "cell_type": "code",
   "execution_count": 32,
   "metadata": {
    "collapsed": false,
    "jupyter": {
     "outputs_hidden": false
    }
   },
   "outputs": [
    {
     "name": "stdout",
     "output_type": "stream",
     "text": [
      "158.113487725586310261860489845276 158.113487725687832607945892959833  -0.000000000101522346085403114557\n"
     ]
    }
   ],
   "source": [
    "def f(x):\n",
    "    return x*((x+1)**.5 - x**.5)\n",
    "\n",
    "def g(x):\n",
    "    return x/((x+1)**.5 + x**.5)\n",
    "\n",
    "sayi = 100000.\n",
    "fark = f(sayi) - g(sayi)\n",
    "print \"%34.30f %34.30f %34.30f\"%(f(sayi), g(sayi), fark)"
   ]
  },
  {
   "cell_type": "markdown",
   "metadata": {},
   "source": [
    "### 1.4 - Başka fonksiyonlar"
   ]
  },
  {
   "cell_type": "code",
   "execution_count": 33,
   "metadata": {
    "collapsed": false,
    "jupyter": {
     "outputs_hidden": false
    }
   },
   "outputs": [],
   "source": [
    "# help(math)"
   ]
  },
  {
   "cell_type": "code",
   "execution_count": 34,
   "metadata": {
    "collapsed": false,
    "jupyter": {
     "outputs_hidden": false
    }
   },
   "outputs": [
    {
     "name": "stdout",
     "output_type": "stream",
     "text": [
      "4.99999958326e-07\n",
      "0.000999500333084\n",
      "0.00628314396556\n",
      "0.000499999875046\n",
      "-0.00444287562991\n",
      "1.06850191961e+13\n"
     ]
    }
   ],
   "source": [
    "from math import *\n",
    "x = 0.001\n",
    "print 1 - cos(x)\n",
    "\n",
    "x = 1000\n",
    "print log(x+1) - log(x)\n",
    "\n",
    "x = 0.249*math.pi\n",
    "print cos(x)**2 - sin(x)**2\n",
    "\n",
    "x = 1000\n",
    "print (x**2+1)**.5 - x\n",
    "\n",
    "x = 0.249*math.pi\n",
    "print sin(x) - cos(x)\n",
    "\n",
    "x = 10\n",
    "print exp(3*x) - 3*exp(2*x) + 5*exp(x) - 1"
   ]
  },
  {
   "cell_type": "markdown",
   "metadata": {},
   "source": [
    "### 1.5 polinom kökleri"
   ]
  },
  {
   "cell_type": "code",
   "execution_count": 35,
   "metadata": {
    "collapsed": false,
    "jupyter": {
     "outputs_hidden": false
    }
   },
   "outputs": [
    {
     "name": "stdout",
     "output_type": "stream",
     "text": [
      "-1000.0\n",
      "-0.000999999999976\n",
      "-0.001\n"
     ]
    }
   ],
   "source": [
    "a = 1.\n",
    "b = 1000.001\n",
    "c = 1.\n",
    "delta = (b**2 - 4*a*c)**.5\n",
    "x1 = (-b - delta)/(2*a)\n",
    "x2 = (-b + delta)/(2*a)\n",
    "x2c = c/x1\n",
    "print x1\n",
    "print x2\n",
    "print x2c"
   ]
  },
  {
   "cell_type": "code",
   "execution_count": 36,
   "metadata": {
    "collapsed": false,
    "jupyter": {
     "outputs_hidden": false
    }
   },
   "outputs": [],
   "source": [
    "def kok(a,b,c):\n",
    "    delta = (b**2 - 4*a*c)**.5\n",
    "    x1 = (-b - delta)/(2*a)\n",
    "    x2 = (-b + delta)/(2*a)\n",
    "    return x1, x2"
   ]
  },
  {
   "cell_type": "code",
   "execution_count": 37,
   "metadata": {
    "collapsed": false,
    "jupyter": {
     "outputs_hidden": false
    }
   },
   "outputs": [
    {
     "name": "stdout",
     "output_type": "stream",
     "text": [
      "(-1000.0, -0.0009999999999763531)\n",
      "(1.9989999999999302, 2.00100000000007)\n"
     ]
    }
   ],
   "source": [
    "print kok(1., 1000.001, 1.)\n",
    "print kok(1., -4, 3.999999)"
   ]
  },
  {
   "cell_type": "code",
   "execution_count": 38,
   "metadata": {
    "cocalc": {
     "outputs": {
      "0": {
       "name": "input",
       "opts": {
        "password": false,
        "prompt": "a"
       },
       "output_type": "stream",
       "value": "1"
      },
      "1": {
       "name": "input",
       "opts": {
        "password": false,
        "prompt": "b"
       },
       "output_type": "stream",
       "value": "2"
      },
      "2": {
       "name": "input",
       "opts": {
        "password": false,
        "prompt": "c"
       },
       "output_type": "stream",
       "value": "3"
      },
      "4": {
       "name": "input",
       "opts": {
        "password": false,
        "prompt": "RGV2YW0gbcSxPyhFL0gp\n"
       },
       "output_type": "stream",
       "value": "E"
      },
      "5": {
       "name": "input",
       "opts": {
        "password": false,
        "prompt": "a"
       },
       "output_type": "stream",
       "value": "2"
      },
      "6": {
       "name": "input",
       "opts": {
        "password": false,
        "prompt": "b"
       },
       "output_type": "stream",
       "value": "3"
      },
      "7": {
       "name": "input",
       "opts": {
        "password": false,
        "prompt": "c"
       },
       "output_type": "stream",
       "value": "4"
      },
      "8": {
       "name": "input",
       "opts": {
        "password": false,
        "prompt": "Devam mı?(E/H)"
       },
       "output_type": "stream"
      },
      "9": {
       "name": "input",
       "opts": {
        "password": false,
        "prompt": "RGV2YW0gbcSxPyhFL0gp\n"
       },
       "output_type": "stream",
       "value": "h"
      }
     }
    },
    "collapsed": false,
    "jupyter": {
     "outputs_hidden": false
    }
   },
   "outputs": [
    {
     "name": "stdout",
     "output_type": "stream",
     "text": [
      "a 1b 2c 3((-1-1.4142135623730951j), (-0.9999999999999999+1.4142135623730951j))\n",
      "RGV2YW0gbcSxPyhFL0gp\n",
      " Ea 2b 3c 4((-0.7500000000000001-1.1989578808281798j), (-0.7499999999999999+1.1989578808281798j))\n",
      "RGV2YW0gbcSxPyhFL0gp\n",
      " h"
     ]
    }
   ],
   "source": [
    "sart = True\n",
    "while sart==True:\n",
    "    a = complex(raw_input('a'))\n",
    "    b = complex(raw_input('b'))\n",
    "    c = complex(raw_input('c'))\n",
    "    print kok(a,b,c)\n",
    "    devam_mi = raw_input(u'Devam mı?(E/H)')\n",
    "    if devam_mi.upper()!='E':\n",
    "        sart = False"
   ]
  },
  {
   "cell_type": "markdown",
   "metadata": {},
   "source": [
    "### 1.6 Binom dağılımı\n",
    "\n",
    "## $\\binom{n}{m} = \\frac{n!}{m! (n-m)!}$"
   ]
  },
  {
   "cell_type": "code",
   "execution_count": 39,
   "metadata": {
    "collapsed": false,
    "jupyter": {
     "outputs_hidden": false
    }
   },
   "outputs": [
    {
     "name": "stdout",
     "output_type": "stream",
     "text": [
      "93326215443944152681699238856266700490715968264381621468592963895217599993229915608941463976156518286253697920827223758251185210916864000000000000000000000000\n",
      "9426890448883247745626185743057242473809693764078951663494238777294707070023223798882976159207729119823605850588608460429412647567360000000000000000000000\n",
      "2\n",
      "4950.0\n"
     ]
    }
   ],
   "source": [
    "n = 100\n",
    "m = 98\n",
    "\n",
    "pay = 1\n",
    "for i in range(1, n+1):\n",
    "    pay = pay*i\n",
    "\n",
    "paydaM = 1\n",
    "for i in range(1, m+1):\n",
    "    paydaM = paydaM*i\n",
    "\n",
    "paydaNM = 1\n",
    "for i in range(1, (n-m)+1):\n",
    "    paydaNM = paydaNM*i\n",
    "\n",
    "sonuc = pay/float(paydaM*paydaNM)\n",
    "print pay\n",
    "print paydaM\n",
    "print paydaNM\n",
    "print sonuc"
   ]
  },
  {
   "cell_type": "code",
   "execution_count": 40,
   "metadata": {
    "collapsed": false,
    "jupyter": {
     "outputs_hidden": false
    }
   },
   "outputs": [
    {
     "name": "stdout",
     "output_type": "stream",
     "text": [
      "120\n"
     ]
    }
   ],
   "source": [
    "# faktöryel hesaplama 1. yöntem\n",
    "\n",
    "n = 5\n",
    "faktoryel = 1\n",
    "i = 0\n",
    "while i<n:\n",
    "    i += 1\n",
    "    faktoryel = faktoryel*i\n",
    "\n",
    "print faktoryel"
   ]
  },
  {
   "cell_type": "code",
   "execution_count": 41,
   "metadata": {
    "collapsed": false,
    "jupyter": {
     "outputs_hidden": false
    }
   },
   "outputs": [
    {
     "name": "stdout",
     "output_type": "stream",
     "text": [
      "230300.0\n"
     ]
    }
   ],
   "source": [
    "# faktöryel hesaplama 2. yöntem\n",
    "n = 50\n",
    "m = 46\n",
    "faktoryel = 1\n",
    "for i in range(1, m+1):\n",
    "    faktoryel = faktoryel * (n-i+1)/float(i)\n",
    "\n",
    "print faktoryel"
   ]
  },
  {
   "cell_type": "markdown",
   "metadata": {},
   "source": [
    "### 1.7 Fibonacci"
   ]
  },
  {
   "cell_type": "code",
   "execution_count": 42,
   "metadata": {
    "collapsed": false,
    "jupyter": {
     "outputs_hidden": false
    }
   },
   "outputs": [
    {
     "name": "stdout",
     "output_type": "stream",
     "text": [
      "1 1 2 3 5 8 13 21 34 55 89 144 233 377 610 987 1597 2584 4181 6765 10946 17711 28657 46368 75025 121393 196418 317811 514229 832040 1346269 2178309 3524578 5702887 9227465 14930352 24157817 39088169 63245986 102334155 165580141 267914296 433494437 701408733 1134903170 1836311903 2971215073 4807526976 7778742049 12586269025 20365011074 32951280099 53316291173 86267571272 139583862445 225851433717 365435296162 591286729879 956722026041 1548008755920 2504730781961 4052739537881 6557470319842 10610209857723 17167680177565 27777890035288 44945570212853 72723460248141 117669030460994 190392490709135 308061521170129 498454011879264 806515533049393 1304969544928657 2111485077978050 3416454622906707 5527939700884757 8944394323791464 14472334024676221 23416728348467685 37889062373143906 61305790721611591 99194853094755497 160500643816367088 259695496911122585 420196140727489673 679891637638612258 1100087778366101931 1779979416004714189 2880067194370816120 4660046610375530309 7540113804746346429 12200160415121876738 19740274219868223167 31940434634990099905 51680708854858323072 83621143489848422977 135301852344706746049 218922995834555169026 354224848179261915075 573147844013817084101\n"
     ]
    }
   ],
   "source": [
    "# Fibonacci 1. yöntem\n",
    "n = 100\n",
    "\n",
    "F1 = F0 = 1\n",
    "print F1, F0,\n",
    "\n",
    "i = 0\n",
    "while i<n-1:\n",
    "    F2 = F1 + F0\n",
    "    F0 = F1\n",
    "    F1 = F2\n",
    "    print F2,\n",
    "    i = i + 1\n"
   ]
  },
  {
   "cell_type": "code",
   "execution_count": 43,
   "metadata": {
    "collapsed": false,
    "jupyter": {
     "outputs_hidden": false
    }
   },
   "outputs": [
    {
     "name": "stdout",
     "output_type": "stream",
     "text": [
      " 573147844013818970112.00\n"
     ]
    }
   ],
   "source": [
    "# Fibonacci 2. yöntem\n",
    "\n",
    "n = 101\n",
    "Fn = (((1+5**.5)/2)**n - ((1-5**.5)/2)**n)/5**.5\n",
    "\n",
    "print \"%25.2f\"%Fn"
   ]
  },
  {
   "cell_type": "code",
   "execution_count": 44,
   "metadata": {
    "collapsed": false,
    "jupyter": {
     "outputs_hidden": false
    }
   },
   "outputs": [
    {
     "data": {
      "image/png": "[encoded data removed]",
      "text/plain": [
       "<Figure size 432x288 with 1 Axes>"
      ]
     },
     "execution_count": 44,
     "metadata": {
      "image/png": {
       "height": 250,
       "width": 384
      }
     },
     "output_type": "execute_result"
    }
   ],
   "source": [
    "# Fibonacci 1. ve 2. yöntemin grafikleri\n",
    "\n",
    "from math import log\n",
    "import matplotlib.pyplot as plt\n",
    "import numpy as np\n",
    "%matplotlib inline\n",
    "\n",
    "n = 1000\n",
    "\n",
    "Fn = [1, 1]\n",
    "i = 0\n",
    "while i<n-1:\n",
    "    Fn += [Fn[-1] + Fn[-2]]\n",
    "    i = i + 1\n",
    "\n",
    "FnLog = [log(F,10) for F in Fn]\n",
    "\n",
    "Fnf = lambda n: (((1+5**.5)/2)**n - ((1-5**.5)/2)**n)/5**.5\n",
    "Fnn = [Fnf(i) for i in range(1, n+2)]\n",
    "FnnLog = [log(F,10) for F in Fnn]\n",
    "\n",
    "plt.semilogy(Fn)\n",
    "plt.plot(Fnn, '--')\n",
    "plt.show()"
   ]
  },
  {
   "cell_type": "code",
   "execution_count": null,
   "metadata": {
    "collapsed": false,
    "jupyter": {
     "outputs_hidden": false
    }
   },
   "outputs": [],
   "source": []
  }
 ],
 "metadata": {
  "kernelspec": {
   "display_name": "Python 3 (ipykernel)",
   "language": "python",
   "name": "python3"
  },
  "language_info": {
   "codemirror_mode": {
    "name": "ipython",
    "version": 3
   },
   "file_extension": ".py",
   "mimetype": "text/x-python",
   "name": "python",
   "nbconvert_exporter": "python",
   "pygments_lexer": "ipython3",
   "version": "3.8.10"
  }
 },
 "nbformat": 4,
 "nbformat_minor": 4
}
